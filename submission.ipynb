{
 "cells": [
  {
   "cell_type": "code",
   "execution_count": null,
   "metadata": {
    "collapsed": true
   },
   "outputs": [],
   "source": [
    "import random\n",
    "import operator\n",
    "\n",
    "\n",
    "class Submission:\n",
    "    \"\"\"\n",
    "    Uses the function that predicts the users interests for an item to find the top 25 ratings and writes it to a file in\n",
    "    the format specified by the RecSys challenge.\n",
    "    \"\"\"\n",
    "            \n",
    "    #  Dummy function returning the predicted rating for a user-item pair.\n",
    "    def predicted_rating(self, user, item):\n",
    "        return random.random()  # Todo: Implement this method.\n",
    "\n",
    "    # Given a user and a list of items, predict the user's rating for this items and return a sorted list of the items\n",
    "    # from highest predicted ratings to lowest predicted rating.\n",
    "    def predict_ratings(self, user, items):\n",
    "\n",
    "        # Generates a dictionary with the items as keys and the predicted rating for the user to the items as the values\n",
    "        predicted_item_ratings = {}\n",
    "        for item in items:\n",
    "            predicted_rating = self.predicted_rating(user, item)\n",
    "            predicted_item_ratings[item] = predicted_rating\n",
    "\n",
    "        # Sort the accommodations by highest predicted rating.\n",
    "        sorted_list_of_tuples = sorted(predicted_item_ratings.items(), key=operator.itemgetter(1), reverse=True)\n",
    "        items_sorted = [tuple[0] for tuple in sorted_list_of_tuples]\n",
    "\n",
    "        return items_sorted\n"
   ]
  }
 ],
 "metadata": {
  "kernelspec": {
   "display_name": "Python 2",
   "language": "python",
   "name": "python2"
  },
  "language_info": {
   "codemirror_mode": {
    "name": "ipython",
    "version": 2
   },
   "file_extension": ".py",
   "mimetype": "text/x-python",
   "name": "python",
   "nbconvert_exporter": "python",
   "pygments_lexer": "ipython2",
   "version": "2.7.6"
  }
 },
 "nbformat": 4,
 "nbformat_minor": 0
}
