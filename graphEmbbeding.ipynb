{
 "cells": [
  {
   "cell_type": "markdown",
   "metadata": {},
   "source": [
    "# SOURCE CODE\n",
    "# https://gist.github.com/victorkohler/f48ea6512058719ba52053851fedc745"
   ]
  },
  {
   "cell_type": "code",
   "execution_count": 1,
   "metadata": {},
   "outputs": [],
   "source": [
    "import sys\n",
    "import pandas as pd\n",
    "import numpy as np\n",
    "import scipy.sparse as sparse\n",
    "from scipy.sparse.linalg import spsolve\n",
    "import random"
   ]
  },
  {
   "cell_type": "markdown",
   "metadata": {},
   "source": [
    "# Data Preprocessing for Matrix User x Item"
   ]
  },
  {
   "cell_type": "code",
   "execution_count": 2,
   "metadata": {},
   "outputs": [],
   "source": [
    "train_data = pd.read_csv('data/train.csv')\n",
    "test_data = pd.read_csv('data/test.csv')"
   ]
  },
  {
   "cell_type": "code",
   "execution_count": 3,
   "metadata": {},
   "outputs": [
    {
     "data": {
      "text/plain": [
       "(3782335, 12)"
      ]
     },
     "execution_count": 3,
     "metadata": {},
     "output_type": "execute_result"
    }
   ],
   "source": [
    "#np.shape(train_data)\n",
    "np.shape(test_data)"
   ]
  },
  {
   "cell_type": "code",
   "execution_count": 4,
   "metadata": {},
   "outputs": [
    {
     "ename": "MemoryError",
     "evalue": "",
     "output_type": "error",
     "traceback": [
      "\u001b[0;31m---------------------------------------------------------------------------\u001b[0m",
      "\u001b[0;31mMemoryError\u001b[0m                               Traceback (most recent call last)",
      "\u001b[0;32m<ipython-input-4-2f3e21cbbfd6>\u001b[0m in \u001b[0;36m<module>\u001b[0;34m\u001b[0m\n\u001b[0;32m----> 1\u001b[0;31m \u001b[0mtrain\u001b[0m \u001b[0;34m=\u001b[0m \u001b[0mtrain_data\u001b[0m\u001b[0;34m.\u001b[0m\u001b[0mappend\u001b[0m\u001b[0;34m(\u001b[0m\u001b[0mtest_data\u001b[0m\u001b[0;34m)\u001b[0m\u001b[0;34m\u001b[0m\u001b[0;34m\u001b[0m\u001b[0m\n\u001b[0m\u001b[1;32m      2\u001b[0m \u001b[0mnp\u001b[0m\u001b[0;34m.\u001b[0m\u001b[0mshape\u001b[0m\u001b[0;34m(\u001b[0m\u001b[0mtrain\u001b[0m\u001b[0;34m)\u001b[0m\u001b[0;34m\u001b[0m\u001b[0;34m\u001b[0m\u001b[0m\n",
      "\u001b[0;32m~/.local/lib/python3.6/site-packages/pandas/core/frame.py\u001b[0m in \u001b[0;36mappend\u001b[0;34m(self, other, ignore_index, verify_integrity, sort)\u001b[0m\n\u001b[1;32m   6690\u001b[0m         return concat(to_concat, ignore_index=ignore_index,\n\u001b[1;32m   6691\u001b[0m                       \u001b[0mverify_integrity\u001b[0m\u001b[0;34m=\u001b[0m\u001b[0mverify_integrity\u001b[0m\u001b[0;34m,\u001b[0m\u001b[0;34m\u001b[0m\u001b[0;34m\u001b[0m\u001b[0m\n\u001b[0;32m-> 6692\u001b[0;31m                       sort=sort)\n\u001b[0m\u001b[1;32m   6693\u001b[0m \u001b[0;34m\u001b[0m\u001b[0m\n\u001b[1;32m   6694\u001b[0m     def join(self, other, on=None, how='left', lsuffix='', rsuffix='',\n",
      "\u001b[0;32m~/.local/lib/python3.6/site-packages/pandas/core/reshape/concat.py\u001b[0m in \u001b[0;36mconcat\u001b[0;34m(objs, axis, join, join_axes, ignore_index, keys, levels, names, verify_integrity, sort, copy)\u001b[0m\n\u001b[1;32m    227\u001b[0m                        \u001b[0mverify_integrity\u001b[0m\u001b[0;34m=\u001b[0m\u001b[0mverify_integrity\u001b[0m\u001b[0;34m,\u001b[0m\u001b[0;34m\u001b[0m\u001b[0;34m\u001b[0m\u001b[0m\n\u001b[1;32m    228\u001b[0m                        copy=copy, sort=sort)\n\u001b[0;32m--> 229\u001b[0;31m     \u001b[0;32mreturn\u001b[0m \u001b[0mop\u001b[0m\u001b[0;34m.\u001b[0m\u001b[0mget_result\u001b[0m\u001b[0;34m(\u001b[0m\u001b[0;34m)\u001b[0m\u001b[0;34m\u001b[0m\u001b[0;34m\u001b[0m\u001b[0m\n\u001b[0m\u001b[1;32m    230\u001b[0m \u001b[0;34m\u001b[0m\u001b[0m\n\u001b[1;32m    231\u001b[0m \u001b[0;34m\u001b[0m\u001b[0m\n",
      "\u001b[0;32m~/.local/lib/python3.6/site-packages/pandas/core/reshape/concat.py\u001b[0m in \u001b[0;36mget_result\u001b[0;34m(self)\u001b[0m\n\u001b[1;32m    424\u001b[0m             new_data = concatenate_block_managers(\n\u001b[1;32m    425\u001b[0m                 \u001b[0mmgrs_indexers\u001b[0m\u001b[0;34m,\u001b[0m \u001b[0mself\u001b[0m\u001b[0;34m.\u001b[0m\u001b[0mnew_axes\u001b[0m\u001b[0;34m,\u001b[0m \u001b[0mconcat_axis\u001b[0m\u001b[0;34m=\u001b[0m\u001b[0mself\u001b[0m\u001b[0;34m.\u001b[0m\u001b[0maxis\u001b[0m\u001b[0;34m,\u001b[0m\u001b[0;34m\u001b[0m\u001b[0;34m\u001b[0m\u001b[0m\n\u001b[0;32m--> 426\u001b[0;31m                 copy=self.copy)\n\u001b[0m\u001b[1;32m    427\u001b[0m             \u001b[0;32mif\u001b[0m \u001b[0;32mnot\u001b[0m \u001b[0mself\u001b[0m\u001b[0;34m.\u001b[0m\u001b[0mcopy\u001b[0m\u001b[0;34m:\u001b[0m\u001b[0;34m\u001b[0m\u001b[0;34m\u001b[0m\u001b[0m\n\u001b[1;32m    428\u001b[0m                 \u001b[0mnew_data\u001b[0m\u001b[0;34m.\u001b[0m\u001b[0m_consolidate_inplace\u001b[0m\u001b[0;34m(\u001b[0m\u001b[0;34m)\u001b[0m\u001b[0;34m\u001b[0m\u001b[0;34m\u001b[0m\u001b[0m\n",
      "\u001b[0;32m~/.local/lib/python3.6/site-packages/pandas/core/internals/managers.py\u001b[0m in \u001b[0;36mconcatenate_block_managers\u001b[0;34m(mgrs_indexers, axes, concat_axis, copy)\u001b[0m\n\u001b[1;32m   2059\u001b[0m         \u001b[0;32melse\u001b[0m\u001b[0;34m:\u001b[0m\u001b[0;34m\u001b[0m\u001b[0;34m\u001b[0m\u001b[0m\n\u001b[1;32m   2060\u001b[0m             b = make_block(\n\u001b[0;32m-> 2061\u001b[0;31m                 \u001b[0mconcatenate_join_units\u001b[0m\u001b[0;34m(\u001b[0m\u001b[0mjoin_units\u001b[0m\u001b[0;34m,\u001b[0m \u001b[0mconcat_axis\u001b[0m\u001b[0;34m,\u001b[0m \u001b[0mcopy\u001b[0m\u001b[0;34m=\u001b[0m\u001b[0mcopy\u001b[0m\u001b[0;34m)\u001b[0m\u001b[0;34m,\u001b[0m\u001b[0;34m\u001b[0m\u001b[0;34m\u001b[0m\u001b[0m\n\u001b[0m\u001b[1;32m   2062\u001b[0m                 placement=placement)\n\u001b[1;32m   2063\u001b[0m         \u001b[0mblocks\u001b[0m\u001b[0;34m.\u001b[0m\u001b[0mappend\u001b[0m\u001b[0;34m(\u001b[0m\u001b[0mb\u001b[0m\u001b[0;34m)\u001b[0m\u001b[0;34m\u001b[0m\u001b[0;34m\u001b[0m\u001b[0m\n",
      "\u001b[0;32m~/.local/lib/python3.6/site-packages/pandas/core/internals/concat.py\u001b[0m in \u001b[0;36mconcatenate_join_units\u001b[0;34m(join_units, concat_axis, copy)\u001b[0m\n\u001b[1;32m    254\u001b[0m                 \u001b[0mconcat_values\u001b[0m \u001b[0;34m=\u001b[0m \u001b[0mconcat_values\u001b[0m\u001b[0;34m.\u001b[0m\u001b[0mcopy\u001b[0m\u001b[0;34m(\u001b[0m\u001b[0;34m)\u001b[0m\u001b[0;34m\u001b[0m\u001b[0;34m\u001b[0m\u001b[0m\n\u001b[1;32m    255\u001b[0m     \u001b[0;32melse\u001b[0m\u001b[0;34m:\u001b[0m\u001b[0;34m\u001b[0m\u001b[0;34m\u001b[0m\u001b[0m\n\u001b[0;32m--> 256\u001b[0;31m         \u001b[0mconcat_values\u001b[0m \u001b[0;34m=\u001b[0m \u001b[0m_concat\u001b[0m\u001b[0;34m.\u001b[0m\u001b[0m_concat_compat\u001b[0m\u001b[0;34m(\u001b[0m\u001b[0mto_concat\u001b[0m\u001b[0;34m,\u001b[0m \u001b[0maxis\u001b[0m\u001b[0;34m=\u001b[0m\u001b[0mconcat_axis\u001b[0m\u001b[0;34m)\u001b[0m\u001b[0;34m\u001b[0m\u001b[0;34m\u001b[0m\u001b[0m\n\u001b[0m\u001b[1;32m    257\u001b[0m \u001b[0;34m\u001b[0m\u001b[0m\n\u001b[1;32m    258\u001b[0m     \u001b[0;32mreturn\u001b[0m \u001b[0mconcat_values\u001b[0m\u001b[0;34m\u001b[0m\u001b[0;34m\u001b[0m\u001b[0m\n",
      "\u001b[0;32m~/.local/lib/python3.6/site-packages/pandas/core/dtypes/concat.py\u001b[0m in \u001b[0;36m_concat_compat\u001b[0;34m(to_concat, axis)\u001b[0m\n\u001b[1;32m    168\u001b[0m                 \u001b[0mto_concat\u001b[0m \u001b[0;34m=\u001b[0m \u001b[0;34m[\u001b[0m\u001b[0mx\u001b[0m\u001b[0;34m.\u001b[0m\u001b[0mastype\u001b[0m\u001b[0;34m(\u001b[0m\u001b[0;34m'object'\u001b[0m\u001b[0;34m)\u001b[0m \u001b[0;32mfor\u001b[0m \u001b[0mx\u001b[0m \u001b[0;32min\u001b[0m \u001b[0mto_concat\u001b[0m\u001b[0;34m]\u001b[0m\u001b[0;34m\u001b[0m\u001b[0;34m\u001b[0m\u001b[0m\n\u001b[1;32m    169\u001b[0m \u001b[0;34m\u001b[0m\u001b[0m\n\u001b[0;32m--> 170\u001b[0;31m     \u001b[0;32mreturn\u001b[0m \u001b[0mnp\u001b[0m\u001b[0;34m.\u001b[0m\u001b[0mconcatenate\u001b[0m\u001b[0;34m(\u001b[0m\u001b[0mto_concat\u001b[0m\u001b[0;34m,\u001b[0m \u001b[0maxis\u001b[0m\u001b[0;34m=\u001b[0m\u001b[0maxis\u001b[0m\u001b[0;34m)\u001b[0m\u001b[0;34m\u001b[0m\u001b[0;34m\u001b[0m\u001b[0m\n\u001b[0m\u001b[1;32m    171\u001b[0m \u001b[0;34m\u001b[0m\u001b[0m\n\u001b[1;32m    172\u001b[0m \u001b[0;34m\u001b[0m\u001b[0m\n",
      "\u001b[0;31mMemoryError\u001b[0m: "
     ]
    }
   ],
   "source": [
    "train = train_data.append(test_data)\n",
    "np.shape(train)"
   ]
  },
  {
   "cell_type": "code",
   "execution_count": null,
   "metadata": {},
   "outputs": [],
   "source": [
    "item_metadata = pd.read_csv('item_metadata.csv', sep=',', engine='python')"
   ]
  },
  {
   "cell_type": "code",
   "execution_count": null,
   "metadata": {},
   "outputs": [],
   "source": [
    "train_v2 = train[train['action_type']=='clickout item']\n",
    "train_v2= train_v2[train_v2.reference.notnull()]\n",
    "train_v2.head()"
   ]
  },
  {
   "cell_type": "code",
   "execution_count": null,
   "metadata": {},
   "outputs": [],
   "source": [
    "train_v2.dtypes"
   ]
  },
  {
   "cell_type": "code",
   "execution_count": null,
   "metadata": {},
   "outputs": [],
   "source": [
    "train_v2[\"reference\"]= train_v2[\"reference\"].astype(int)\n",
    "train_v2[\"step\"]= train_v2[\"step\"].astype(int)\n",
    "train_v2.dtypes"
   ]
  },
  {
   "cell_type": "code",
   "execution_count": null,
   "metadata": {},
   "outputs": [],
   "source": [
    "train_v2.head()\n",
    "#np.shape(train_v2)"
   ]
  },
  {
   "cell_type": "code",
   "execution_count": null,
   "metadata": {},
   "outputs": [],
   "source": [
    "#train_v3 = train_v2.head(10000)\n",
    "train_v3 = train_v2\n",
    "train_v3.head()\n",
    "np.shape(train_v3)"
   ]
  },
  {
   "cell_type": "code",
   "execution_count": null,
   "metadata": {},
   "outputs": [],
   "source": [
    "data = train_v3[['user_id','reference']]\n",
    "data.head()\n",
    "#np.shape(data)"
   ]
  },
  {
   "cell_type": "code",
   "execution_count": null,
   "metadata": {
    "scrolled": true
   },
   "outputs": [],
   "source": [
    "data=data.groupby(['user_id','reference']).size().reset_index()\n",
    "data.columns = ['user', 'item', 'click_count']\n",
    "data.head()"
   ]
  },
  {
   "cell_type": "code",
   "execution_count": null,
   "metadata": {},
   "outputs": [],
   "source": [
    "user_id_table = data['user']\n",
    "user_id_table = pd.DataFrame(user_id_table)\n",
    "user_id_table = pd.DataFrame(user_id_table['user'].unique())\n",
    "user_id_table.columns = ['user']\n",
    "user_id_table['user_id'] = dict(enumerate(user_id_table['user'], start=0))\n",
    "user_id_table.head()\n",
    "#np.shape(user_id_table)"
   ]
  },
  {
   "cell_type": "code",
   "execution_count": null,
   "metadata": {
    "scrolled": false
   },
   "outputs": [],
   "source": [
    "item_id_table = data['item']\n",
    "item_id_table = pd.DataFrame(item_id_table)\n",
    "item_id_table = pd.DataFrame(item_id_table['item'].unique())\n",
    "item_id_table.columns = ['item']\n",
    "item_id_table['item_id'] = dict(enumerate(item_id_table['item'], start=0))\n",
    "item_id_table.head()\n",
    "#np.shape(item_id_table)"
   ]
  },
  {
   "cell_type": "code",
   "execution_count": null,
   "metadata": {},
   "outputs": [],
   "source": [
    "data = data.merge(user_id_table, how='left', left_on='user', right_on = 'user').merge(item_id_table, how='left', left_on='item', right_on = 'item')\n",
    "data.head()"
   ]
  },
  {
   "cell_type": "code",
   "execution_count": null,
   "metadata": {},
   "outputs": [],
   "source": [
    "import scipy.sparse as sparse\n",
    "import numpy as np\n",
    "import random\n",
    "\n",
    "def mini_batch_generator(graph,batch_size,row_length,col_length):\n",
    "    i = random.randint(0, row_length-batch_size)\n",
    "    j = random.randint(0,col_length-batch_size)\n",
    "    return graph[i:i+batch_size,j:j+batch_size]\n",
    "\n",
    "def negative_sampling(E,row_length,col_length,batch_size):\n",
    "    S = sparse.dok_matrix((row_length+1,col_length+1)) #create empty negtive feedack graph\n",
    "    for i in range(batch_size):\n",
    "        a = random.randint(0, row_length)\n",
    "        b = random.randint(0,col_length)\n",
    "        randomEdge = (a,b) #randomly sample edges from the implicit feedback graph\n",
    "        if (a,b) not in E:\n",
    "            S[a,b]=1\n",
    "    return S.tocoo()\n",
    "\n",
    "def compute_e_ife(theta_u,theta_v,G_items,S_items):\n",
    "    sumG = sumS = 0\n",
    "    for (i,j) in G_items:\n",
    "        currVal = np.dot(theta_u[i],np.transpose(theta_v[j]))\n",
    "        h = 1/(1+np.exp(-currVal))\n",
    "        sumG += np.log(h)\n",
    "    for (i,j) in S_items:\n",
    "        currVal = np.dot(theta_u[i],np.transpose(theta_v[j]))\n",
    "        h = 1/(1+np.exp(-currVal))\n",
    "        sumS += np.log(1-h)\n",
    "    return sumG + sumS\n",
    "            \n",
    "def update_embeddings(theta_u,theta_v,G_items,S_items,a):\n",
    "    sumGu = sumSu = sumGv = sumSv = 0\n",
    "    for (i,j) in G_items:\n",
    "        currVal = np.dot(theta_u[i],np.transpose(theta_v[j]))\n",
    "        currVal = 1/(1+np.exp(-currVal))\n",
    "        currVal = (1 - currVal)\n",
    "        uVal = np.dot(currVal,theta_v[j])  \n",
    "        vVal = np.dot(currVal,theta_u[i])\n",
    "        sumGu += uVal\n",
    "        sumGv += vVal\n",
    "    for (i,j) in S_items:\n",
    "        currVal = np.dot(theta_u[i], np.transpose(theta_v[j]))\n",
    "        currVal = 1/(1+np.exp(-currVal))\n",
    "        currVal = (-currVal)\n",
    "        uVal = np.dot(currVal,theta_v[j])  \n",
    "        vVal = np.dot(currVal,theta_u[i])\n",
    "        sumSu += uVal\n",
    "        sumSv += vVal\n",
    "    theta_u = theta_u + (a*sumGu + a*sumSu) #update user embeddings\n",
    "    theta_v = theta_v + (a*sumGv + a*sumSv) #update item embeddings\n",
    "    \n",
    "def implicit_feedback_embedding(G,S,b,a,k,row_length,col_length):\n",
    "    #initiliase list of vector embeddings randomly\n",
    "    theta_u = list()\n",
    "    theta_v = list()\n",
    "    for i in range(row_length+1):\n",
    "        theta_u.append(np.random.rand(k))\n",
    "    for i in range(col_length+1):\n",
    "        theta_v.append(np.random.rand(k))   \n",
    "    tolerance = 2 #convergence parameter epsilon\n",
    "    convergence_difference = 5\n",
    "    G_items = set(zip(G.row,G.col)) #get iterator for row,col pair with non-zero values\n",
    "    S = sparse.dok_matrix((row_length+1,col_length+1)) #create empty negtive feedack graph\n",
    "    #e_ife = compute_e_ife(theta_u,theta_v,G,S) #initialise e_ife\n",
    "    G = G.tocsr()\n",
    "    \n",
    "    while abs(convergence_difference) > tolerance: #while embedding has not converged\n",
    "        G_mini = mini_batch_generator(G,batch_size,row_length,col_length)\n",
    "        S = negative_sampling(G_items,row_length,col_length,batch_size) #make negative feedback graph\n",
    "        #print(G_mini.count_nonzero())\n",
    "        #print(S.count_nonzero())\n",
    "        G_mini = G.tocoo()\n",
    "        #S.tocoo()\n",
    "        S_items = set(zip(S.row,S.col))\n",
    "        G_mini_items = set(zip(G_mini.row,G_mini.col))\n",
    "        update_embeddings(theta_u,theta_v,G_mini_items,S_items,a)\n",
    "        #new_ife = compute_e_ife(theta_u,theta_v,G,S)\n",
    "        convergence_difference -= 2\n",
    "     \n",
    "#set parameters\n",
    "batch_size = 20\n",
    "learning_rate = 1\n",
    "dimensionality = 5\n",
    "#adjacency matrix representing the implicit Feedback Graph G\n",
    "G = sparse.coo_matrix((data['click_count'].astype(float), (data['user_id'], data['item_id'])))\n",
    "row_length = max(G.row)\n",
    "col_length = max(G.col)\n",
    "print(\"embedding...\")\n",
    "implicit_feedback_embedding(G,S,batch_size,learning_rate,dimensionality,row_length,col_length)\n",
    "print(\"done\")\n",
    "\n",
    "G = G.tocsr()\n",
    "G = G[:5000, :5000]\n",
    "G = G.todense() #gives a numpy matrix"
   ]
  }
 ],
 "metadata": {
  "kernelspec": {
   "display_name": "Python 3",
   "language": "python",
   "name": "python3"
  },
  "language_info": {
   "codemirror_mode": {
    "name": "ipython",
    "version": 3
   },
   "file_extension": ".py",
   "mimetype": "text/x-python",
   "name": "python",
   "nbconvert_exporter": "python",
   "pygments_lexer": "ipython3",
   "version": "3.6.7"
  }
 },
 "nbformat": 4,
 "nbformat_minor": 2
}
